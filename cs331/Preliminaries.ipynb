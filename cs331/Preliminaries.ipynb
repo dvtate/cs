{
 "cells": [
  {
   "cell_type": "markdown",
   "metadata": {},
   "source": [
    "# Preliminaries\n",
    "\n",
    "All assignments for this class will be fetched, worked-on, and submitted via a dynamic in-browser Python development and testing environment known as the [Jupyter Notebook](http://jupyter.org/).\n",
    "\n",
    "This first machine problem is intended to familiarize you with the environment and assignment retrieval/submission system, and to have you write some simple Python functions and test them using unit test cells, which will be found in all subsequent assignments."
   ]
  },
  {
   "cell_type": "markdown",
   "metadata": {},
   "source": [
    "## Fetching assignments\n",
    "\n",
    "If you're reading this, then you're likely already familiar with the procedure for fetching an assignment. To recap:\n",
    "\n",
    "- After logging in using your @hawk.iit.edu account, you'll either click \"Start Server\" or \"My Server\" to go to the Jupyter dashboard\n",
    "- From there, go to the \"Assignments\" tab, where you'll see any newly released assignments in the \"Released assignments\" area. You can fetch the files by clicking the \"Fetch\" button next to each assignment.\n",
    "- After an assignment has been fetched, you'll see it in the \"Downloaded assignments\" area, where you can expand the assignment to click on individual notebooks to open them up. You can also validate and submit your work here. Alternatively, you can also browse into an assignment folder from the \"Files\" tab and click on notebook files to open them up there."
   ]
  },
  {
   "cell_type": "markdown",
   "metadata": {},
   "source": [
    "## Exercise 1: Perfect Numbers\n",
    "\n",
    "All of the lab notebooks you'll be working on for this class will come with a fair bit of skeleton code --- i.e., stubbed out classes and functions that you need to complete or modify to get working correctly.\n",
    "\n",
    "In the cell below, for instance, you'll find a stubbed out function named `is_perfect`, which should return `True` if the number passed to it is a \"perfect\" number, and `False` otherwise.\n",
    "\n",
    "A perfect number is a postive integer whose value is equal to the sum of its proper divisors (i.e., its factors excluding the number itself). 6 is the first perfect number, as its divisors 1, 2, and 3 add up to 6.\n",
    "\n",
    "Complete the function by first deleting the comment \"`# YOUR CODE HERE`\" and the following `raise` statement, then filling in your own implementation."
   ]
  },
  {
   "cell_type": "code",
   "execution_count": 1,
   "metadata": {
    "deletable": false,
    "nbgrader": {
     "checksum": "2f50b5b7ebebb19536b1add82143bfba",
     "grade": false,
     "grade_id": "is_perfect",
     "locked": false,
     "schema_version": 1,
     "solution": true
    }
   },
   "outputs": [],
   "source": [
    "def is_perfect(n):\n",
    "    sum = 0;\n",
    "    for num in range(1, n):\n",
    "        if (n % num == 0):\n",
    "            sum += num;\n",
    "        if (n == sum):\n",
    "            return True;\n",
    "    return False;\n",
    "\n"
   ]
  },
  {
   "cell_type": "markdown",
   "metadata": {},
   "source": [
    "Each exercise will also be accompanied by one or more *unit test* cells, each of which is meant to test some aspect of your implementation. When you run the unit test cell(s) after evaluating your implementation, you'll either find errors reported, which should help you identify what you need to fix, or they will complete silently, which means you've passed the test(s).\n",
    "\n",
    "It's important that you ensure your implementation and test cell(s) are actually running to completion before moving on --- there's a big difference between a cell not producing an error and not completing! (A \"`In [*]`\" marker next to the cell means that it's still being evaluated by the interpreter.)\n",
    "\n",
    "You should also note that we will often run *hidden tests* on our end to ensure that you didn't just hardcode solutions into your implementation. For this exercise, for instance, it's likely we'll be running your code against other values after submission in addition to the values we're testing below!"
   ]
  },
  {
   "cell_type": "code",
   "execution_count": 2,
   "metadata": {
    "deletable": false,
    "editable": false,
    "nbgrader": {
     "checksum": "2df3255106f9df69131107af4d8457be",
     "grade": true,
     "grade_id": "is_perfect_test",
     "locked": true,
     "points": 3,
     "schema_version": 1,
     "solution": false
    },
    "scrolled": true
   },
   "outputs": [],
   "source": [
    "# (3 points)\n",
    "import unittest\n",
    "tc = unittest.TestCase()\n",
    "\n",
    "for n in (6, 28, 496):\n",
    "    tc.assertTrue(is_perfect(n), '{} should be perfect'.format(n))\n",
    "\n",
    "for n in (1, 2, 3, 4, 5, 10, 20):\n",
    "    tc.assertFalse(is_perfect(n), '{} should not be perfect'.format(n))\n",
    "\n",
    "for n in range(30, 450):\n",
    "    tc.assertFalse(is_perfect(n), '{} should not be perfect'.format(n))\n"
   ]
  },
  {
   "cell_type": "markdown",
   "metadata": {},
   "source": [
    "## Exercise 2: Multiples of 3 and 5\n",
    "\n",
    "If we list all the natural numbers below 10 that are multiples of 3 or 5, we get 3, 5, 6 and 9. The sum of these multiples is 23.\n",
    "\n",
    "Complete the following function, which finds the sum of all the multiples of 3 or 5 below the argument `n`."
   ]
  },
  {
   "cell_type": "code",
   "execution_count": 5,
   "metadata": {
    "deletable": false,
    "nbgrader": {
     "checksum": "7a7824cb313a6e3c1477023947231262",
     "grade": false,
     "grade_id": "multiples_of_3_and_5",
     "locked": false,
     "schema_version": 1,
     "solution": true
    }
   },
   "outputs": [],
   "source": [
    "def multiples_of_3_and_5(n):\n",
    "    sum = 0;\n",
    "    for i in range(n):\n",
    "        if i % 3 == 0 or i % 5 == 0:\n",
    "            sum += i;\n",
    "    return sum;"
   ]
  },
  {
   "cell_type": "code",
   "execution_count": 6,
   "metadata": {
    "deletable": false,
    "editable": false,
    "nbgrader": {
     "checksum": "91bc9f04934a38764c0ed06ccbd52d5f",
     "grade": true,
     "grade_id": "multiples_of_3_and_5_test",
     "locked": true,
     "points": 3,
     "schema_version": 1,
     "solution": false
    }
   },
   "outputs": [],
   "source": [
    "# (3 points)\n",
    "import unittest\n",
    "tc = unittest.TestCase()\n",
    "tc.assertEqual(multiples_of_3_and_5(10), 23)\n",
    "tc.assertEqual(multiples_of_3_and_5(500), 57918)\n",
    "tc.assertEqual(multiples_of_3_and_5(1000), 233168)"
   ]
  },
  {
   "cell_type": "markdown",
   "metadata": {},
   "source": [
    "## Exercise 3: Integer Right Triangles\n",
    "\n",
    "Given a perimeter of 60, we can find two right triangles with integral length sides: [(10, 24, 26), (15, 20, 25)]. Complete the following function, which takes an integer `p` and returns a list of tuples (*a*, *b*, *c*) corresponding to the integral lengths of the sides of comforming right triangles. Each tuple should have $a \\le b \\lt c$, and the list should contain no duplicate solutions, and be sorted in order of ascending *a*.\n",
    "\n",
    "Note that your solution should take care to limit the number of triangles it tests --- **your function must complete in under 3 seconds for all values of `p` used in the test cells below to earn credit.**"
   ]
  },
  {
   "cell_type": "code",
   "execution_count": 5,
   "metadata": {
    "deletable": false,
    "nbgrader": {
     "checksum": "b8cf53f21a2ea37855eb0426899f4869",
     "grade": false,
     "grade_id": "integer_right_triangles",
     "locked": false,
     "schema_version": 1,
     "solution": true
    }
   },
   "outputs": [],
   "source": [
    "\"\"\"\n",
    "math:\n",
    ": c = p - a - b\n",
    ": a^2 + b^2 = c^2 \n",
    ": a^2 + b^2 = (p - a - b)^2\n",
    "...\n",
    ": a = (2bp - p^2) / (2b - 2p)\n",
    "\"\"\";\n",
    "\n",
    "       \n",
    "def integer_right_triangles(p):\n",
    "    ret = [];\n",
    "    for b in range(1, p // 2):\n",
    "        a = (2 * b * p - p ** 2) / (2 * (b - p));\n",
    "\n",
    "        # only whole numbers\n",
    "        if a % 1: \n",
    "            continue;\n",
    "        \n",
    "        a = int(a);\n",
    "        \n",
    "        tri = tuple(sorted([a, b, p - a - b]));\n",
    "        if not tri in ret:\n",
    "            ret.append(tri);\n",
    "            \n",
    "    return ret;\n"
   ]
  },
  {
   "cell_type": "code",
   "execution_count": 25,
   "metadata": {
    "deletable": false,
    "editable": false,
    "nbgrader": {
     "checksum": "15db32943ed35915e03187cb65cf0e47",
     "grade": true,
     "grade_id": "integer_right_triangles_tests_1",
     "locked": true,
     "points": 1,
     "schema_version": 1,
     "solution": false
    }
   },
   "outputs": [],
   "source": [
    "# (1 point)\n",
    "import unittest\n",
    "tc = unittest.TestCase()\n",
    "tc.assertEqual(integer_right_triangles(60), [(10, 24, 26), (15, 20, 25)])"
   ]
  },
  {
   "cell_type": "code",
   "execution_count": 29,
   "metadata": {
    "deletable": false,
    "editable": false,
    "nbgrader": {
     "checksum": "9ba9f91cc53351ad72d25ba1c09fd60d",
     "grade": true,
     "grade_id": "integer_right_triangles_tests_2",
     "locked": true,
     "points": 3,
     "schema_version": 1,
     "solution": false
    }
   },
   "outputs": [],
   "source": [
    "# (3 points)\n",
    "import unittest\n",
    "tc = unittest.TestCase()\n",
    "tc.assertEqual(integer_right_triangles(100), [])\n",
    "tc.assertEqual(integer_right_triangles(180), [(18, 80, 82), (30, 72, 78), (45, 60, 75)])\n",
    "tc.assertEqual(integer_right_triangles(840), \n",
    "               [(40, 399, 401),\n",
    "                (56, 390, 394),\n",
    "                (105, 360, 375),\n",
    "                (120, 350, 370),\n",
    "                (140, 336, 364),\n",
    "                (168, 315, 357),\n",
    "                (210, 280, 350),\n",
    "                (240, 252, 348)])"
   ]
  },
  {
   "cell_type": "markdown",
   "metadata": {},
   "source": [
    "## Exercise 4: Simple ASCII Art\n",
    "\n",
    "For this next exercise, you'll need to complete the function `gen_pattern`, which, when called with a string of length $\\ge$ 1, will generate an ASCII art pattern of concentric diamonds using those characters. The following are examples of patterns returned by the function:\n",
    "\n",
    "    > print(gen_pattern('X'))\n",
    "    \n",
    "    X\n",
    "    \n",
    "    > print(gen_pattern('XY'))\n",
    "    \n",
    "    ..Y..\n",
    "    Y.X.Y\n",
    "    ..Y..\n",
    "    \n",
    "    > print(gen_pattern('WXYZ'))\n",
    "    \n",
    "    ......Z......\n",
    "    ....Z.Y.Z....\n",
    "    ..Z.Y.X.Y.Z..\n",
    "    Z.Y.X.W.X.Y.Z\n",
    "    ..Z.Y.X.Y.Z..\n",
    "    ....Z.Y.Z....\n",
    "    ......Z......\n",
    "    \n",
    "Note that the function will *return* the pattern as a string (as opposed to printing it out), and so each line of the pattern should be separated by a newline, written as `'\\n'` in Python. The second pattern above, as returned by `gen_pattern`, would be `''..Y..\\nY.X.Y\\n..Y..'`.\n",
    "\n",
    "You ought to find the string [`join`](https://docs.python.org/3.6/library/stdtypes.html#str.join) and [`center`](https://docs.python.org/3.6/library/stdtypes.html#str.center) methods helpful in your implementation. They are demonstrated here:\n",
    "\n",
    "    > '*'.join(['one', 'two', 'three'])\n",
    "    \n",
    "    'one*two*three'\n",
    "    \n",
    "    > '*'.join('abcde')\n",
    "    \n",
    "    'a*b*c*d*e'\n",
    "    \n",
    "    > 'hello'.center(11, '*')\n",
    "    \n",
    "    '***hello***'\n",
    "    \n",
    "Complete the `gen_pattern` function, below:"
   ]
  },
  {
   "cell_type": "code",
   "execution_count": 6,
   "metadata": {
    "deletable": false,
    "nbgrader": {
     "checksum": "aba9f491d2bb818d095945f50bc40df8",
     "grade": false,
     "grade_id": "gen_pattern",
     "locked": false,
     "schema_version": 1,
     "solution": true
    }
   },
   "outputs": [],
   "source": [
    "\n",
    "# i added optional fill param\n",
    "def gen_pattern(chars, fill='.'):\n",
    "\n",
    "    # edge case (just to avoid excess newlines)\n",
    "    if len(chars) <= 1:\n",
    "        return chars;\n",
    "    \n",
    "    # number of fill chars + number of letters in biggest row\n",
    "    width = 2 * (len(chars) - 1) + 2 * len(chars) - 1;\n",
    "    \n",
    "    # my algorithm doesnt put them in correct order so this is workaround\n",
    "    srows = [];\n",
    "    erows = [];\n",
    "\n",
    "    # for each row    \n",
    "    for i in range(0, 2*len(chars) - 1):\n",
    "\n",
    "        # unexpected indent == forcing long lines\n",
    "\n",
    "        # could be simplified\n",
    "        rchars = chars[::-1][0:i // 2] + chars[::-1][0:i // 2 + 1][::-1];\n",
    "        \n",
    "        # brain working at half capacity, this is workaround\n",
    "        if i % 2:\n",
    "            srows.append(fill.join(rchars).center(width, '.'));\n",
    "        else:\n",
    "            erows.append(fill.join(rchars).center(width, '.'));\n",
    "\n",
    "    return '\\n'.join(srows + erows[::-1]);\n"
   ]
  },
  {
   "cell_type": "code",
   "execution_count": 7,
   "metadata": {
    "deletable": false,
    "editable": false,
    "nbgrader": {
     "checksum": "38918b9fd2152f6a6a25ce899fdfe6bc",
     "grade": true,
     "grade_id": "gen_pattern_tests_1",
     "locked": true,
     "points": 2,
     "schema_version": 1,
     "solution": false
    }
   },
   "outputs": [],
   "source": [
    "# (2 points)\n",
    "import unittest\n",
    "tc = unittest.TestCase()\n",
    "tc.assertEqual(gen_pattern('@'), '@')\n",
    "tc.assertEqual(gen_pattern('@%'),\n",
    "'''..%..\n",
    "%.@.%\n",
    "..%..''')"
   ]
  },
  {
   "cell_type": "code",
   "execution_count": 8,
   "metadata": {
    "deletable": false,
    "editable": false,
    "nbgrader": {
     "checksum": "ebc0d5d9bbe4f641dbb5d4ac77ddf283",
     "grade": true,
     "grade_id": "gen_pattern_tests_2",
     "locked": true,
     "points": 2,
     "schema_version": 1,
     "solution": false
    }
   },
   "outputs": [],
   "source": [
    "# (2 points)\n",
    "import unittest\n",
    "tc = unittest.TestCase()\n",
    "tc.assertEqual(gen_pattern('ABC'),\n",
    "'''....C....\n",
    "..C.B.C..\n",
    "C.B.A.B.C\n",
    "..C.B.C..\n",
    "....C....''')\n",
    "tc.assertEqual(gen_pattern('#####'),\n",
    "'''........#........\n",
    "......#.#.#......\n",
    "....#.#.#.#.#....\n",
    "..#.#.#.#.#.#.#..\n",
    "#.#.#.#.#.#.#.#.#\n",
    "..#.#.#.#.#.#.#..\n",
    "....#.#.#.#.#....\n",
    "......#.#.#......\n",
    "........#........''')"
   ]
  },
  {
   "cell_type": "code",
   "execution_count": 9,
   "metadata": {
    "deletable": false,
    "editable": false,
    "nbgrader": {
     "checksum": "1680e6d35214f42f0260cda6b772a0bd",
     "grade": true,
     "grade_id": "gen_pattern_tests_3",
     "locked": true,
     "points": 2,
     "schema_version": 1,
     "solution": false
    }
   },
   "outputs": [],
   "source": [
    "# (2 points)\n",
    "import unittest\n",
    "tc = unittest.TestCase()\n",
    "tc.assertEqual(gen_pattern('abcdefghijklmnop'),\n",
    "'''..............................p..............................\n",
    "............................p.o.p............................\n",
    "..........................p.o.n.o.p..........................\n",
    "........................p.o.n.m.n.o.p........................\n",
    "......................p.o.n.m.l.m.n.o.p......................\n",
    "....................p.o.n.m.l.k.l.m.n.o.p....................\n",
    "..................p.o.n.m.l.k.j.k.l.m.n.o.p..................\n",
    "................p.o.n.m.l.k.j.i.j.k.l.m.n.o.p................\n",
    "..............p.o.n.m.l.k.j.i.h.i.j.k.l.m.n.o.p..............\n",
    "............p.o.n.m.l.k.j.i.h.g.h.i.j.k.l.m.n.o.p............\n",
    "..........p.o.n.m.l.k.j.i.h.g.f.g.h.i.j.k.l.m.n.o.p..........\n",
    "........p.o.n.m.l.k.j.i.h.g.f.e.f.g.h.i.j.k.l.m.n.o.p........\n",
    "......p.o.n.m.l.k.j.i.h.g.f.e.d.e.f.g.h.i.j.k.l.m.n.o.p......\n",
    "....p.o.n.m.l.k.j.i.h.g.f.e.d.c.d.e.f.g.h.i.j.k.l.m.n.o.p....\n",
    "..p.o.n.m.l.k.j.i.h.g.f.e.d.c.b.c.d.e.f.g.h.i.j.k.l.m.n.o.p..\n",
    "p.o.n.m.l.k.j.i.h.g.f.e.d.c.b.a.b.c.d.e.f.g.h.i.j.k.l.m.n.o.p\n",
    "..p.o.n.m.l.k.j.i.h.g.f.e.d.c.b.c.d.e.f.g.h.i.j.k.l.m.n.o.p..\n",
    "....p.o.n.m.l.k.j.i.h.g.f.e.d.c.d.e.f.g.h.i.j.k.l.m.n.o.p....\n",
    "......p.o.n.m.l.k.j.i.h.g.f.e.d.e.f.g.h.i.j.k.l.m.n.o.p......\n",
    "........p.o.n.m.l.k.j.i.h.g.f.e.f.g.h.i.j.k.l.m.n.o.p........\n",
    "..........p.o.n.m.l.k.j.i.h.g.f.g.h.i.j.k.l.m.n.o.p..........\n",
    "............p.o.n.m.l.k.j.i.h.g.h.i.j.k.l.m.n.o.p............\n",
    "..............p.o.n.m.l.k.j.i.h.i.j.k.l.m.n.o.p..............\n",
    "................p.o.n.m.l.k.j.i.j.k.l.m.n.o.p................\n",
    "..................p.o.n.m.l.k.j.k.l.m.n.o.p..................\n",
    "....................p.o.n.m.l.k.l.m.n.o.p....................\n",
    "......................p.o.n.m.l.m.n.o.p......................\n",
    "........................p.o.n.m.n.o.p........................\n",
    "..........................p.o.n.o.p..........................\n",
    "............................p.o.p............................\n",
    "..............................p..............................''')"
   ]
  },
  {
   "cell_type": "markdown",
   "metadata": {},
   "source": [
    "## Submission\n",
    "\n",
    "When you're ready to submit your work, make sure it's saved (you can click the disk icon in the menu bar), then go back to the \"Assignments\" tab and click \"Submit\" next to this assignment in the \"Downloaded assignments\" area. You can submit as many times as you like before the due date -- you'll see your submissions listed in the \"Submitted assignments\" area.\n",
    "\n",
    "If you downloaded and worked on the notebook in your own local Jupyter Notebook server, please be sure to delete the old notebook (from the directory where it was placed when you retrieved the assignment) before uploading your completed one there for submission.\n",
    "\n",
    "That's it for now!"
   ]
  }
 ],
 "metadata": {
  "kernelspec": {
   "display_name": "Python 3",
   "language": "python",
   "name": "python3"
  },
  "language_info": {
   "codemirror_mode": {
    "name": "ipython",
    "version": 3
   },
   "file_extension": ".py",
   "mimetype": "text/x-python",
   "name": "python",
   "nbconvert_exporter": "python",
   "pygments_lexer": "ipython3",
   "version": "3.5.2"
  }
 },
 "nbformat": 4,
 "nbformat_minor": 1
}
