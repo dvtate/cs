{
 "cells": [
  {
   "cell_type": "markdown",
   "metadata": {},
   "source": [
    "# Iocane Powder\n",
    "\n",
    "## Overview\n",
    "\n",
    "> Man in Black: All right. Where is the poison? The battle of wits has begun. It ends when you decide and we both drink, and find out who is right... and who is dead. \n",
    "\n",
    "The line above is from the perennial favorite 1980s movie adaptation of William Goldman's *The Princess Bride*, wherein a mysterious hero sits down to a battle of wits with a villainous Sicilian kidnapper. The setup: two cups positioned between the two, one of which (purportedly) contains a colorless, odorless, lethal poison (viz., iocane powder). After a guess is made as to which cup contains the poison, both drink, and the winner is the one left standing.\n",
    "\n",
    "For this machine problem you will write a program that simulates multiple rounds of this battle of wits, allowing the player to repeatedly guess which cup is poisoned. The computer will \"place\" the poison before the player guesses, and\n",
    "will reveal who is right... and who is dead, afterwards.\n",
    "\n",
    "At the outset, the computer will always place the poison in cup 2 before letting the player guess, but after enough guesses have been entered the computer will start to place the poison based on the pattern of previous guesses so as to outsmart the player.\n",
    "\n",
    "Here's a sample game session (note how the silly player keeps alternating guesses, and that the computer catches on to this fact after a while):\n",
    "\n",
    "    Where is the iocane powder: my cup (1) or yours (2)? 1\n",
    "    Wrong! Ha! Never bet against a Sicilian!\n",
    "\n",
    "    You died 1 times, and I drank the poison 0 times\n",
    "\n",
    "    Where is the iocane powder: my cup (1) or yours (2)? 2\n",
    "    Good guess! Ack! I drank the poison!\n",
    "\n",
    "    You died 1 times, and I drank the poison 1 times\n",
    "\n",
    "    Where is the iocane powder: my cup (1) or yours (2)? 1\n",
    "    Wrong! Ha! Never bet against a Sicilian!\n",
    "\n",
    "    You died 2 times, and I drank the poison 1 times\n",
    "\n",
    "    Where is the iocane powder: my cup (1) or yours (2)? 2\n",
    "    Good guess! Ack! I drank the poison!\n",
    "\n",
    "    You died 2 times, and I drank the poison 2 times\n",
    "\n",
    "    Where is the iocane powder: my cup (1) or yours (2)? 1\n",
    "    Wrong! Ha! Never bet against a Sicilian!\n",
    "\n",
    "    You died 3 times, and I drank the poison 2 times\n",
    "\n",
    "    Where is the iocane powder: my cup (1) or yours (2)? 2\n",
    "    Wrong! Ha! Never bet against a Sicilian!\n",
    "\n",
    "    You died 4 times, and I drank the poison 2 times\n",
    "\n",
    "    Where is the iocane powder: my cup (1) or yours (2)? 1\n",
    "    Wrong! Ha! Never bet against a Sicilian!\n",
    "\n",
    "    You died 5 times, and I drank the poison 2 times\n",
    "\n",
    "    Where is the iocane powder: my cup (1) or yours (2)? 2\n",
    "    Wrong! Ha! Never bet against a Sicilian!\n",
    "\n",
    "    You died 6 times, and I drank the poison 2 times\n",
    "\n",
    "    Where is the iocane powder: my cup (1) or yours (2)? 1\n",
    "    Wrong! Ha! Never bet against a Sicilian!\n",
    "\n",
    "    You died 7 times, and I drank the poison 2 times\n",
    "\n",
    "\n",
    "## Implementation\n",
    "\n",
    "To keep track of the pattern of previous guesses, you will use a dictionary that maps a pattern (of fixed length) to a list of counts for the subsequent guess. \n",
    "\n",
    "For instance, imagine that the computer observes the player continuing to alternate guesses across ten separate attempts, like so: '1', '2', '1', '2', '1', '2', '1', '2', '1', '2'. If we are using a pattern detection length of three, then after the fourth guess we can create an entry in our dictionary that maps the key '121' to the list [0, 1], where the second value (1) in the list indicates that the player guessed '2' following the sequence '1', '2', '1'. After the fifth guess, we create the entry '212' &rarr; [1, 0], and after the sixth guess we update the value for '121' to [0, 2] (since the user guesses '2' again, after the sequence '1', '2', '1').\n",
    "\n",
    "Once the player enters a series of guesses that matches a previously seen pattern, the computer should place the poison in the cup that the player is *least likely to guess next*. When the player enters the next guess, the dictionary should be updated to reflect the actual guess.\n",
    "\n",
    "This means that if the computer has yet to see a given pattern of guesses, or when the counts are tied, it will have to place the poison \"blindly\" --- your implementation should simply place the poison furthest away from itself (cup 2). \n",
    "\n",
    "### `record_guess`\n",
    "\n",
    "The first function you are to complete is `record_guess`. It will take the following arguments:\n",
    "\n",
    "- a dictionary to update (possibly containing previously recorded pattern &rarr; list mappings)\n",
    "- a pattern string\n",
    "- a guess -- which is either '1' or '2'.  \n",
    "\n",
    "If necessary, the function will create a new entry for the pattern (if one doesn't already exist), then record the updated count for the guess. Since the dictionary is updated in place (i.e., mutated), the function will not return anything. \n",
    "\n",
    "Complete the function below, checking your implementation with the test cases that follow when you're ready. Note that in the future, the bulk of the description for functions we ask you to implement will simply be placed in the functions' docstrings, as below.\n",
    "\n",
    "*Hints: the [`int`](https://docs.python.org/3/library/functions.html#int) function can be used to convert strings to integers, and you might find the dictionary's [`setdefault`](https://docs.python.org/3/library/stdtypes.html?highlight=setdefault#dict.setdefault) method useful.*"
   ]
  },
  {
   "cell_type": "code",
   "execution_count": 11,
   "metadata": {
    "deletable": false,
    "nbgrader": {
     "checksum": "c33c5a4d938bd527487d20fc5715775a",
     "grade": false,
     "grade_id": "record_guess",
     "locked": false,
     "schema_version": 1,
     "solution": true
    }
   },
   "outputs": [],
   "source": [
    "def record_guess(pattern_dict, pattern, guess):\n",
    "    # add to dict if not already there   \n",
    "    if not pattern in pattern_dict:\n",
    "        pattern_dict[pattern] = [0, 0]; \n",
    "    \n",
    "    # increment relevant element\n",
    "    pattern_dict[pattern][int(guess) - 1] += 1;\n",
    "\n",
    "    return pattern_dict;\n"
   ]
  },
  {
   "cell_type": "code",
   "execution_count": 12,
   "metadata": {
    "deletable": false,
    "editable": false,
    "nbgrader": {
     "checksum": "faad914be24ffa38575ec1639a046b1c",
     "grade": true,
     "grade_id": "test_record_guess",
     "locked": true,
     "points": 5,
     "schema_version": 1,
     "solution": false
    }
   },
   "outputs": [],
   "source": [
    "# (5 points)\n",
    "\n",
    "from unittest import TestCase\n",
    "tc = TestCase()\n",
    "d = {}\n",
    "record_guess(d, '121', '1')\n",
    "tc.assertDictEqual(d, {'121': [1, 0]})\n",
    "record_guess(d, '222', '2')\n",
    "record_guess(d, '121', '1')\n",
    "tc.assertDictEqual(d, {'121': [2, 0], '222': [0, 1]})\n",
    "record_guess(d, '122', '2')\n",
    "record_guess(d, '121', '2')\n",
    "record_guess(d, '222', '2')\n",
    "tc.assertDictEqual(d, {'121': [2, 1], '122': [0, 1], '222': [0, 2]})"
   ]
  },
  {
   "cell_type": "markdown",
   "metadata": {},
   "source": [
    "### `next_placement`\n",
    "\n",
    "The next function you'll write will take a dictionary of pattern &rarr; counts mappings and a string representing the pattern of most recent guesses, and return the next best location (either '1' or '2') for the poison (i.e., to try and outwit the player). If the pattern hasn't been seen previously or the counts are tied, the function should return '2'."
   ]
  },
  {
   "cell_type": "code",
   "execution_count": 22,
   "metadata": {
    "deletable": false,
    "nbgrader": {
     "checksum": "3c8aef1ed4490aa2487995b54eeed79a",
     "grade": false,
     "grade_id": "next_placement",
     "locked": false,
     "schema_version": 1,
     "solution": true
    }
   },
   "outputs": [],
   "source": [
    "# i think i would have gone the opposite way\n",
    "#    but the test cases wanted it to be like this\n",
    "def next_placement(pattern_dict, pattern):\n",
    "    if pattern not in pattern_dict:\n",
    "        return '2';\n",
    "    \n",
    "    # ternary operator is kinda ugly in python\n",
    "    return '1' if pattern_dict[pattern][0] < pattern_dict[pattern][1] else '2';\n"
   ]
  },
  {
   "cell_type": "code",
   "execution_count": 23,
   "metadata": {
    "deletable": false,
    "editable": false,
    "nbgrader": {
     "checksum": "8200c6cd8dece561de8217774bd0347b",
     "grade": true,
     "grade_id": "test_next_placement",
     "locked": true,
     "points": 5,
     "schema_version": 1,
     "solution": false
    }
   },
   "outputs": [],
   "source": [
    "# (5 points)\n",
    "\n",
    "from unittest import TestCase\n",
    "tc = TestCase()\n",
    "tc.assertEqual(next_placement({}, '121'), '2')\n",
    "tc.assertEqual(next_placement({'121': [2, 0]}, '121'), '2')\n",
    "tc.assertEqual(next_placement({'121': [2, 5]}, '121'), '1')\n",
    "tc.assertEqual(next_placement({'121': [2, 5]}, '212'), '2')\n",
    "tc.assertEqual(next_placement({'121': [5, 5]}, '121'), '2')\n",
    "tc.assertEqual(next_placement({'121': [15, 5]}, '121'), '2')\n",
    "tc.assertEqual(next_placement({'121': [2, 5],\n",
    "                               '212': [1, 1]}, '212'), '2')\n",
    "tc.assertEqual(next_placement({'121': [2, 5],\n",
    "                               '212': [1, 3]}, '212'), '1')"
   ]
  },
  {
   "cell_type": "markdown",
   "metadata": {},
   "source": [
    "### `play_interactive`\n",
    "\n",
    "Now for the fun bit. The function `play_interactive` will take just one argument --- the length of patterns to use as keys in the dictionary --- and will start an interactive game session, reading either '1' or '2' from the player as guesses, using the functions you wrote above and producing output as shown in the sample game session at the beginning of this writeup. If the player types in any other input (besides '1' or '2'), the game should terminate.\n",
    "\n",
    "*Hint: the [`input`](https://docs.python.org/3/library/functions.html#input) function can be used to read input from the user as a string.*"
   ]
  },
  {
   "cell_type": "code",
   "execution_count": null,
   "metadata": {
    "deletable": false,
    "nbgrader": {
     "checksum": "9121e502052a36232a304dc9f34892b4",
     "grade": true,
     "grade_id": "play_interactive",
     "locked": false,
     "points": 0,
     "schema_version": 1,
     "solution": true
    }
   },
   "outputs": [
    {
     "name": "stdout",
     "output_type": "stream",
     "text": [
      "Where is the iocane powder: my cup (1) or yours (2)? \n",
      "1\n",
      "Wrong! Ha! Never bet against a Sicilian!\n",
      "You died 1 time, and I drank the poison 0 times\n",
      "Where is the iocane powder: my cup (1) or yours (2)? \n",
      "2\n",
      "Good guess! Ack! I drank the poison!\n",
      "You died 1 time, and I drank the poison 1 times\n",
      "Where is the iocane powder: my cup (1) or yours (2)? \n",
      "1\n",
      "Wrong! Ha! Never bet against a Sicilian!\n",
      "You died 2 time, and I drank the poison 1 times\n",
      "Where is the iocane powder: my cup (1) or yours (2)? \n",
      "2\n",
      "Wrong! Ha! Never bet against a Sicilian!\n",
      "You died 3 time, and I drank the poison 1 times\n",
      "Where is the iocane powder: my cup (1) or yours (2)? \n"
     ]
    }
   ],
   "source": [
    "\n",
    "def play_interactive(pattern_length=4):\n",
    "\n",
    "    choices = \"\";\n",
    "    patterns = {};\n",
    "    record = [0, 0]\n",
    "\n",
    "    while True:\n",
    "        \n",
    "        print(\"Where is the iocane powder: my cup (1) or yours (2)? \");\n",
    "        sel = input();\n",
    "\n",
    "        patt = choices[-pattern_length:];\n",
    "        choices += sel;\n",
    "\n",
    "        # invalid choice -> exit\n",
    "        if sel != '1' and sel != '2':\n",
    "            print(\"ggwp\");\n",
    "            return;\n",
    "\n",
    "        # start recording patterns once we get enough data\n",
    "        \n",
    "        if len(choices) >= pattern_length: \n",
    "            record_guess(patterns, patt, sel);\n",
    "\n",
    "        # if their choice differs from where we placed the good cup they die\n",
    "        if sel != next_placement(patterns, patt):\n",
    "            record[0] += 1;\n",
    "            print(\"Wrong! Ha! Never bet against a Sicilian!\");\n",
    "        else:\n",
    "            record[1] += 1;\n",
    "            print(\"Good guess! Ack! I drank the poison!\");\n",
    "\n",
    "        print(\"You died %s time, and I drank the poison %s times\" % (record[0], record[1]));\n",
    "\n",
    "play_interactive(3);"
   ]
  },
  {
   "cell_type": "markdown",
   "metadata": {},
   "source": [
    "### `play_batch`\n",
    "\n",
    "Finally, so that we can check your implementation against a lengthier sequence of guesses without having to play an interactive session, implement the `play_batch` function, which will take the `pattern_length` argument as your `play_interactive` function did, but will also take a sequence of guesses. The function will return the total numbers of wins and losses, as determined by the same algorithm as before."
   ]
  },
  {
   "cell_type": "code",
   "execution_count": null,
   "metadata": {
    "deletable": false,
    "nbgrader": {
     "checksum": "f492f4d864337bfd3fea87a03170beff",
     "grade": false,
     "grade_id": "play_batch",
     "locked": false,
     "schema_version": 1,
     "solution": true
    }
   },
   "outputs": [],
   "source": [
    "def play_batch(guesses, pattern_length=4):\n",
    "    \n",
    "    choices, patterns, record \n",
    "        = \"\", {}, [0, 0];\n",
    "    \n",
    "    for guess in guesses:\n",
    "        \n",
    "        patt = choices[-pattern_length:];\n",
    "        choices += guess;\n",
    "\n",
    "        # invalid choice -> exit\n",
    "        if guess not in ['1', '2']:\n",
    "            break;\n",
    "\n",
    "        # start recording patterns once we get enough data\n",
    "        # NOTE: we could start recording one step earlier with `>=`\n",
    "        #    but the test cases...\n",
    "        if len(choices) > pattern_length:\n",
    "            record_guess(patterns, patt, guess);\n",
    "        \n",
    "        # if their choice differs from where we placed the good cup they die\n",
    "        # I'm C programmer\n",
    "        record[guess != next_placement(patterns, patt)] += 1;\n",
    "        \n",
    "            \n",
    "\n",
    "    return tuple(record);\n",
    "    "
   ]
  },
  {
   "cell_type": "code",
   "execution_count": null,
   "metadata": {
    "deletable": false,
    "editable": false,
    "nbgrader": {
     "checksum": "deb2e6a906f75d1473cf49f3409ad421",
     "grade": true,
     "grade_id": "test_play_batch",
     "locked": true,
     "points": 10,
     "schema_version": 1,
     "solution": false
    }
   },
   "outputs": [],
   "source": [
    "# (10 points)\n",
    "\n",
    "from unittest import TestCase\n",
    "tc = TestCase()\n",
    "tc.assertEqual(play_batch(['1', '1', '1', '1', '1', '1'], 3), (0, 6))\n",
    "tc.assertEqual(play_batch(['1', '2', '1', '2', '1', '2'], 3), (2, 4))\n",
    "tc.assertEqual(play_batch(['1', '2', '1', '2', '1', '2'], 4), (3, 3))\n",
    "tc.assertEqual(play_batch(['1', '2'] * 100, 5), (3, 197))\n",
    "tc.assertEqual(play_batch(['1', '1', '2', '1', '2', '1'] * 100, 2), (398, 202))\n",
    "tc.assertEqual(play_batch(['1', '1', '2', '1', '2', '1'] * 100, 3), (201, 399))\n",
    "tc.assertEqual(play_batch(['1', '1', '2', '1', '2', '1'] * 100, 5), (4, 596))\n",
    "import random\n",
    "random.seed(0, version=2)\n",
    "tc.assertEqual(play_batch((random.choice(['1', '2']) for _ in range(10000)), 4), (5047, 4953))"
   ]
  },
  {
   "cell_type": "code",
   "execution_count": null,
   "metadata": {},
   "outputs": [],
   "source": []
  }
 ],
 "metadata": {
  "kernelspec": {
   "display_name": "Python 3",
   "language": "python",
   "name": "python3"
  },
  "language_info": {
   "codemirror_mode": {
    "name": "ipython",
    "version": 3
   },
   "file_extension": ".py",
   "mimetype": "text/x-python",
   "name": "python",
   "nbconvert_exporter": "python",
   "pygments_lexer": "ipython3",
   "version": "3.5.2"
  }
 },
 "nbformat": 4,
 "nbformat_minor": 1
}
